{
 "cells": [
  {
   "cell_type": "code",
   "execution_count": null,
   "id": "9b04ef63",
   "metadata": {},
   "outputs": [],
   "source": []
  },
  {
   "cell_type": "code",
   "execution_count": null,
   "id": "161ed29a",
   "metadata": {},
   "outputs": [],
   "source": [
    "import pandas as pd\n",
    "from sklearn.model_selection import train_test_split\n",
    "from sklearn.linear_model import LinearRegression\n",
    "from sklearn.metrics import mean_squared_error\n",
    "import joblib\n",
    "\n",
    "# Load the dataset\n",
    "data = pd.read_csv(\"housing_data.csv\")\n",
    "\n",
    "# Perform data preprocessing\n",
    "# You can add additional steps here based on the specific requirements of your dataset\n",
    "\n",
    "# Split the data into training and testing sets\n",
    "train_data = data.head(50)\n",
    "test_data = data.tail(len(data) - 50)\n",
    "\n",
    "# Separate the features and target variable\n",
    "X_train = train_data.drop(\"SalePrice\", axis=1)\n",
    "y_train = train_data[\"SalePrice\"]\n",
    "X_test = test_data.drop(\"SalePrice\", axis=1)\n",
    "y_test = test_data[\"SalePrice\"]\n",
    "\n",
    "# Build a regression model (Linear Regression in this example)\n",
    "model = LinearRegression()\n",
    "\n",
    "# Train the model using the training data\n",
    "model.fit(X_train, y_train)\n",
    "\n",
    "# Evaluate the performance of the model using RMSE\n",
    "y_pred = model.predict(X_test)\n",
    "rmse = mean_squared_error(y_test, y_pred, squared=False)\n",
    "print(\"Root Mean Squared Error (RMSE):\", rmse)\n",
    "\n",
    "# Save the trained model to a file\n",
    "joblib.dump(model, \"trained_model.pkl\")\n"
   ]
  }
 ],
 "metadata": {
  "kernelspec": {
   "display_name": "Python 3 (ipykernel)",
   "language": "python",
   "name": "python3"
  },
  "language_info": {
   "codemirror_mode": {
    "name": "ipython",
    "version": 3
   },
   "file_extension": ".py",
   "mimetype": "text/x-python",
   "name": "python",
   "nbconvert_exporter": "python",
   "pygments_lexer": "ipython3",
   "version": "3.9.12"
  }
 },
 "nbformat": 4,
 "nbformat_minor": 5
}
